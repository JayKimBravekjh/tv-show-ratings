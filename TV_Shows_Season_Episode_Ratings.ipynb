{
  "nbformat": 4,
  "nbformat_minor": 0,
  "metadata": {
    "colab": {
      "name": "TV Shows Season Episode Ratings.ipynb",
      "provenance": [],
      "authorship_tag": "ABX9TyMGIP1BQjX8+9tdHPduBzkE",
      "include_colab_link": true
    },
    "kernelspec": {
      "name": "python3",
      "display_name": "Python 3"
    },
    "accelerator": "GPU"
  },
  "cells": [
    {
      "cell_type": "markdown",
      "metadata": {
        "id": "view-in-github",
        "colab_type": "text"
      },
      "source": [
        "<a href=\"https://colab.research.google.com/github/nonoumasy/tv-show-ratings/blob/master/TV_Shows_Season_Episode_Ratings.ipynb\" target=\"_parent\"><img src=\"https://colab.research.google.com/assets/colab-badge.svg\" alt=\"Open In Colab\"/></a>"
      ]
    },
    {
      "cell_type": "code",
      "metadata": {
        "id": "hU9JJxaZ1cnV",
        "colab_type": "code",
        "colab": {}
      },
      "source": [
        "import pandas as pd\n",
        "import matplotlib.pyplot as plt\n",
        "import seaborn as sns"
      ],
      "execution_count": 0,
      "outputs": []
    },
    {
      "cell_type": "code",
      "metadata": {
        "id": "HueA8LOD9DxH",
        "colab_type": "code",
        "colab": {
          "base_uri": "https://localhost:8080/",
          "height": 105
        },
        "outputId": "b571a4b2-bf9e-4062-c0fe-7baf5a9569b0"
      },
      "source": [
        "titles_df = pd.read_csv('https://datasets.imdbws.com/title.basics.tsv.gz', sep='\\t', )\n",
        "episode_df = pd.read_csv('https://datasets.imdbws.com/title.episode.tsv.gz', sep='\\t', )\n",
        "ratings_df = pd.read_csv('https://datasets.imdbws.com/title.ratings.tsv.gz', sep='\\t', )"
      ],
      "execution_count": 7,
      "outputs": [
        {
          "output_type": "stream",
          "text": [
            "/usr/local/lib/python3.6/dist-packages/IPython/core/interactiveshell.py:2718: DtypeWarning: Columns (7) have mixed types.Specify dtype option on import or set low_memory=False.\n",
            "  interactivity=interactivity, compiler=compiler, result=result)\n",
            "/usr/local/lib/python3.6/dist-packages/IPython/core/interactiveshell.py:2718: DtypeWarning: Columns (5) have mixed types.Specify dtype option on import or set low_memory=False.\n",
            "  interactivity=interactivity, compiler=compiler, result=result)\n"
          ],
          "name": "stderr"
        }
      ]
    },
    {
      "cell_type": "code",
      "metadata": {
        "id": "uIcHoXh6gHTy",
        "colab_type": "code",
        "colab": {
          "base_uri": "https://localhost:8080/",
          "height": 266
        },
        "outputId": "54c4768a-422c-4db1-c0c3-cd692ff1dd5b"
      },
      "source": [
        "title = 'Seinfeld'\n",
        "titles_df[titles_df.primaryTitle == title]"
      ],
      "execution_count": 118,
      "outputs": [
        {
          "output_type": "execute_result",
          "data": {
            "text/html": [
              "<div>\n",
              "<style scoped>\n",
              "    .dataframe tbody tr th:only-of-type {\n",
              "        vertical-align: middle;\n",
              "    }\n",
              "\n",
              "    .dataframe tbody tr th {\n",
              "        vertical-align: top;\n",
              "    }\n",
              "\n",
              "    .dataframe thead th {\n",
              "        text-align: right;\n",
              "    }\n",
              "</style>\n",
              "<table border=\"1\" class=\"dataframe\">\n",
              "  <thead>\n",
              "    <tr style=\"text-align: right;\">\n",
              "      <th></th>\n",
              "      <th>tconst</th>\n",
              "      <th>titleType</th>\n",
              "      <th>primaryTitle</th>\n",
              "      <th>originalTitle</th>\n",
              "      <th>isAdult</th>\n",
              "      <th>startYear</th>\n",
              "      <th>endYear</th>\n",
              "      <th>runtimeMinutes</th>\n",
              "      <th>genres</th>\n",
              "    </tr>\n",
              "  </thead>\n",
              "  <tbody>\n",
              "    <tr>\n",
              "      <th>96750</th>\n",
              "      <td>tt0098904</td>\n",
              "      <td>tvSeries</td>\n",
              "      <td>Seinfeld</td>\n",
              "      <td>Seinfeld</td>\n",
              "      <td>0</td>\n",
              "      <td>1989</td>\n",
              "      <td>1998</td>\n",
              "      <td>22</td>\n",
              "      <td>Comedy</td>\n",
              "    </tr>\n",
              "    <tr>\n",
              "      <th>905101</th>\n",
              "      <td>tt0933773</td>\n",
              "      <td>tvEpisode</td>\n",
              "      <td>Seinfeld</td>\n",
              "      <td>Seinfeld</td>\n",
              "      <td>0</td>\n",
              "      <td>2006</td>\n",
              "      <td>\\N</td>\n",
              "      <td>\\N</td>\n",
              "      <td>Biography,Documentary</td>\n",
              "    </tr>\n",
              "    <tr>\n",
              "      <th>1505990</th>\n",
              "      <td>tt10939038</td>\n",
              "      <td>tvEpisode</td>\n",
              "      <td>Seinfeld</td>\n",
              "      <td>Seinfeld</td>\n",
              "      <td>0</td>\n",
              "      <td>2019</td>\n",
              "      <td>\\N</td>\n",
              "      <td>\\N</td>\n",
              "      <td>Talk-Show</td>\n",
              "    </tr>\n",
              "    <tr>\n",
              "      <th>2484962</th>\n",
              "      <td>tt1536149</td>\n",
              "      <td>tvEpisode</td>\n",
              "      <td>Seinfeld</td>\n",
              "      <td>Seinfeld</td>\n",
              "      <td>0</td>\n",
              "      <td>2009</td>\n",
              "      <td>\\N</td>\n",
              "      <td>41</td>\n",
              "      <td>Comedy</td>\n",
              "    </tr>\n",
              "    <tr>\n",
              "      <th>3309986</th>\n",
              "      <td>tt2433286</td>\n",
              "      <td>tvEpisode</td>\n",
              "      <td>Seinfeld</td>\n",
              "      <td>Seinfeld</td>\n",
              "      <td>0</td>\n",
              "      <td>2009</td>\n",
              "      <td>\\N</td>\n",
              "      <td>\\N</td>\n",
              "      <td>Comedy</td>\n",
              "    </tr>\n",
              "    <tr>\n",
              "      <th>4728524</th>\n",
              "      <td>tt5677882</td>\n",
              "      <td>tvEpisode</td>\n",
              "      <td>Seinfeld</td>\n",
              "      <td>Seinfeld</td>\n",
              "      <td>0</td>\n",
              "      <td>1999</td>\n",
              "      <td>\\N</td>\n",
              "      <td>\\N</td>\n",
              "      <td>Documentary,News</td>\n",
              "    </tr>\n",
              "    <tr>\n",
              "      <th>5458946</th>\n",
              "      <td>tt7282966</td>\n",
              "      <td>tvEpisode</td>\n",
              "      <td>Seinfeld</td>\n",
              "      <td>Seinfeld</td>\n",
              "      <td>0</td>\n",
              "      <td>2017</td>\n",
              "      <td>\\N</td>\n",
              "      <td>\\N</td>\n",
              "      <td>\\N</td>\n",
              "    </tr>\n",
              "  </tbody>\n",
              "</table>\n",
              "</div>"
            ],
            "text/plain": [
              "             tconst  titleType  ... runtimeMinutes                 genres\n",
              "96750     tt0098904   tvSeries  ...             22                 Comedy\n",
              "905101    tt0933773  tvEpisode  ...             \\N  Biography,Documentary\n",
              "1505990  tt10939038  tvEpisode  ...             \\N              Talk-Show\n",
              "2484962   tt1536149  tvEpisode  ...             41                 Comedy\n",
              "3309986   tt2433286  tvEpisode  ...             \\N                 Comedy\n",
              "4728524   tt5677882  tvEpisode  ...             \\N       Documentary,News\n",
              "5458946   tt7282966  tvEpisode  ...             \\N                     \\N\n",
              "\n",
              "[7 rows x 9 columns]"
            ]
          },
          "metadata": {
            "tags": []
          },
          "execution_count": 118
        }
      ]
    },
    {
      "cell_type": "code",
      "metadata": {
        "id": "XpLOQkCBT7J-",
        "colab_type": "code",
        "colab": {}
      },
      "source": [
        "tbbt_df = titles_df[titles_df.tconst == 'tt0898266']\n",
        "got_df = titles_df[titles_df.tconst == 'tt0944947']\n",
        "bb_df = titles_df[titles_df.tconst == 'tt0903747']\n",
        "seinfeld_df = titles_df[titles_df.tconst == 'tt0098904']\n"
      ],
      "execution_count": 0,
      "outputs": []
    },
    {
      "cell_type": "code",
      "metadata": {
        "id": "OApBFo01J79o",
        "colab_type": "code",
        "colab": {}
      },
      "source": [
        "df = pd.merge(episode_df.merge(seinfeld_df, left_on='parentTconst', right_on='tconst'), ratings_df, left_on='tconst_x', right_on='tconst')"
      ],
      "execution_count": 0,
      "outputs": []
    },
    {
      "cell_type": "code",
      "metadata": {
        "id": "ObkMrLeDbGVo",
        "colab_type": "code",
        "colab": {
          "base_uri": "https://localhost:8080/",
          "height": 747
        },
        "outputId": "68accb7f-1149-4e56-b206-e4765c309a4f"
      },
      "source": [
        "# Plot\n",
        "plt.figure(figsize=(4,12))\n",
        "sns.heatmap(pd.crosstab(index=df.episodeNumber.astype('float').sort_values(), \n",
        "                        columns=df.seasonNumber.astype('float'), \n",
        "                        values=df.averageRating, aggfunc='sum'), \n",
        "            annot=True, \n",
        "            cmap='Blues',\n",
        "            cbar=False,\n",
        "            )\n",
        "plt.title('Seinfeld Ratings: Season vs Episode')\n",
        "plt.xlabel('Season')\n",
        "plt.ylabel('Episode')\n",
        "plt.show"
      ],
      "execution_count": 136,
      "outputs": [
        {
          "output_type": "execute_result",
          "data": {
            "text/plain": [
              "<function matplotlib.pyplot.show>"
            ]
          },
          "metadata": {
            "tags": []
          },
          "execution_count": 136
        },
        {
          "output_type": "display_data",
          "data": {
            "image/png": "[encoded data removed]",
            "text/plain": [
              "<Figure size 288x864 with 1 Axes>"
            ]
          },
          "metadata": {
            "tags": []
          }
        }
      ]
    },
    {
      "cell_type": "code",
      "metadata": {
        "id": "0fwAP8AdcSl3",
        "colab_type": "code",
        "colab": {
          "base_uri": "https://localhost:8080/",
          "height": 309
        },
        "outputId": "2fc74705-f2e2-4332-dbed-7da4a3128510"
      },
      "source": [
        "df.head()"
      ],
      "execution_count": 46,
      "outputs": [
        {
          "output_type": "execute_result",
          "data": {
            "text/html": [
              "<div>\n",
              "<style scoped>\n",
              "    .dataframe tbody tr th:only-of-type {\n",
              "        vertical-align: middle;\n",
              "    }\n",
              "\n",
              "    .dataframe tbody tr th {\n",
              "        vertical-align: top;\n",
              "    }\n",
              "\n",
              "    .dataframe thead th {\n",
              "        text-align: right;\n",
              "    }\n",
              "</style>\n",
              "<table border=\"1\" class=\"dataframe\">\n",
              "  <thead>\n",
              "    <tr style=\"text-align: right;\">\n",
              "      <th></th>\n",
              "      <th>tconst_x</th>\n",
              "      <th>parentTconst</th>\n",
              "      <th>seasonNumber</th>\n",
              "      <th>episodeNumber</th>\n",
              "      <th>tconst_y</th>\n",
              "      <th>titleType</th>\n",
              "      <th>primaryTitle</th>\n",
              "      <th>originalTitle</th>\n",
              "      <th>isAdult</th>\n",
              "      <th>startYear</th>\n",
              "      <th>endYear</th>\n",
              "      <th>runtimeMinutes</th>\n",
              "      <th>genres</th>\n",
              "      <th>tconst</th>\n",
              "      <th>averageRating</th>\n",
              "      <th>numVotes</th>\n",
              "    </tr>\n",
              "  </thead>\n",
              "  <tbody>\n",
              "    <tr>\n",
              "      <th>0</th>\n",
              "      <td>tt0775431</td>\n",
              "      <td>tt0898266</td>\n",
              "      <td>1</td>\n",
              "      <td>1</td>\n",
              "      <td>tt0898266</td>\n",
              "      <td>tvSeries</td>\n",
              "      <td>The Big Bang Theory</td>\n",
              "      <td>The Big Bang Theory</td>\n",
              "      <td>0</td>\n",
              "      <td>2007</td>\n",
              "      <td>2019</td>\n",
              "      <td>22</td>\n",
              "      <td>Comedy,Romance</td>\n",
              "      <td>tt0775431</td>\n",
              "      <td>8.3</td>\n",
              "      <td>4978</td>\n",
              "    </tr>\n",
              "    <tr>\n",
              "      <th>1</th>\n",
              "      <td>tt10590194</td>\n",
              "      <td>tt0898266</td>\n",
              "      <td>10</td>\n",
              "      <td>0</td>\n",
              "      <td>tt0898266</td>\n",
              "      <td>tvSeries</td>\n",
              "      <td>The Big Bang Theory</td>\n",
              "      <td>The Big Bang Theory</td>\n",
              "      <td>0</td>\n",
              "      <td>2007</td>\n",
              "      <td>2019</td>\n",
              "      <td>22</td>\n",
              "      <td>Comedy,Romance</td>\n",
              "      <td>tt10590194</td>\n",
              "      <td>7.8</td>\n",
              "      <td>78</td>\n",
              "    </tr>\n",
              "    <tr>\n",
              "      <th>2</th>\n",
              "      <td>tt1091289</td>\n",
              "      <td>tt0898266</td>\n",
              "      <td>1</td>\n",
              "      <td>2</td>\n",
              "      <td>tt0898266</td>\n",
              "      <td>tvSeries</td>\n",
              "      <td>The Big Bang Theory</td>\n",
              "      <td>The Big Bang Theory</td>\n",
              "      <td>0</td>\n",
              "      <td>2007</td>\n",
              "      <td>2019</td>\n",
              "      <td>22</td>\n",
              "      <td>Comedy,Romance</td>\n",
              "      <td>tt1091289</td>\n",
              "      <td>8.4</td>\n",
              "      <td>3918</td>\n",
              "    </tr>\n",
              "    <tr>\n",
              "      <th>3</th>\n",
              "      <td>tt1091290</td>\n",
              "      <td>tt0898266</td>\n",
              "      <td>1</td>\n",
              "      <td>3</td>\n",
              "      <td>tt0898266</td>\n",
              "      <td>tvSeries</td>\n",
              "      <td>The Big Bang Theory</td>\n",
              "      <td>The Big Bang Theory</td>\n",
              "      <td>0</td>\n",
              "      <td>2007</td>\n",
              "      <td>2019</td>\n",
              "      <td>22</td>\n",
              "      <td>Comedy,Romance</td>\n",
              "      <td>tt1091290</td>\n",
              "      <td>7.8</td>\n",
              "      <td>3446</td>\n",
              "    </tr>\n",
              "    <tr>\n",
              "      <th>4</th>\n",
              "      <td>tt1091291</td>\n",
              "      <td>tt0898266</td>\n",
              "      <td>1</td>\n",
              "      <td>4</td>\n",
              "      <td>tt0898266</td>\n",
              "      <td>tvSeries</td>\n",
              "      <td>The Big Bang Theory</td>\n",
              "      <td>The Big Bang Theory</td>\n",
              "      <td>0</td>\n",
              "      <td>2007</td>\n",
              "      <td>2019</td>\n",
              "      <td>22</td>\n",
              "      <td>Comedy,Romance</td>\n",
              "      <td>tt1091291</td>\n",
              "      <td>8.2</td>\n",
              "      <td>3504</td>\n",
              "    </tr>\n",
              "  </tbody>\n",
              "</table>\n",
              "</div>"
            ],
            "text/plain": [
              "     tconst_x parentTconst seasonNumber  ...      tconst averageRating numVotes\n",
              "0   tt0775431    tt0898266            1  ...   tt0775431           8.3     4978\n",
              "1  tt10590194    tt0898266           10  ...  tt10590194           7.8       78\n",
              "2   tt1091289    tt0898266            1  ...   tt1091289           8.4     3918\n",
              "3   tt1091290    tt0898266            1  ...   tt1091290           7.8     3446\n",
              "4   tt1091291    tt0898266            1  ...   tt1091291           8.2     3504\n",
              "\n",
              "[5 rows x 16 columns]"
            ]
          },
          "metadata": {
            "tags": []
          },
          "execution_count": 46
        }
      ]
    },
    {
      "cell_type": "code",
      "metadata": {
        "id": "sMQG_jySd0xU",
        "colab_type": "code",
        "colab": {
          "base_uri": "https://localhost:8080/",
          "height": 165
        },
        "outputId": "b8747f54-8fdc-4985-82b0-5be28949aa37"
      },
      "source": [
        "pd.options.display.max_rows = 999\n",
        "df[df.episodeNumber == 0.0]"
      ],
      "execution_count": 63,
      "outputs": [
        {
          "output_type": "execute_result",
          "data": {
            "text/html": [
              "<div>\n",
              "<style scoped>\n",
              "    .dataframe tbody tr th:only-of-type {\n",
              "        vertical-align: middle;\n",
              "    }\n",
              "\n",
              "    .dataframe tbody tr th {\n",
              "        vertical-align: top;\n",
              "    }\n",
              "\n",
              "    .dataframe thead th {\n",
              "        text-align: right;\n",
              "    }\n",
              "</style>\n",
              "<table border=\"1\" class=\"dataframe\">\n",
              "  <thead>\n",
              "    <tr style=\"text-align: right;\">\n",
              "      <th></th>\n",
              "      <th>tconst_x</th>\n",
              "      <th>parentTconst</th>\n",
              "      <th>seasonNumber</th>\n",
              "      <th>episodeNumber</th>\n",
              "      <th>tconst_y</th>\n",
              "      <th>titleType</th>\n",
              "      <th>primaryTitle</th>\n",
              "      <th>originalTitle</th>\n",
              "      <th>isAdult</th>\n",
              "      <th>startYear</th>\n",
              "      <th>endYear</th>\n",
              "      <th>runtimeMinutes</th>\n",
              "      <th>genres</th>\n",
              "      <th>tconst</th>\n",
              "      <th>averageRating</th>\n",
              "      <th>numVotes</th>\n",
              "    </tr>\n",
              "  </thead>\n",
              "  <tbody>\n",
              "    <tr>\n",
              "      <th>1</th>\n",
              "      <td>tt10590194</td>\n",
              "      <td>tt0898266</td>\n",
              "      <td>10.0</td>\n",
              "      <td>0.0</td>\n",
              "      <td>tt0898266</td>\n",
              "      <td>tvSeries</td>\n",
              "      <td>The Big Bang Theory</td>\n",
              "      <td>The Big Bang Theory</td>\n",
              "      <td>0</td>\n",
              "      <td>2007</td>\n",
              "      <td>2019</td>\n",
              "      <td>22</td>\n",
              "      <td>Comedy,Romance</td>\n",
              "      <td>tt10590194</td>\n",
              "      <td>7.8</td>\n",
              "      <td>78</td>\n",
              "    </tr>\n",
              "    <tr>\n",
              "      <th>101</th>\n",
              "      <td>tt2176186</td>\n",
              "      <td>tt0898266</td>\n",
              "      <td>1.0</td>\n",
              "      <td>0.0</td>\n",
              "      <td>tt0898266</td>\n",
              "      <td>tvSeries</td>\n",
              "      <td>The Big Bang Theory</td>\n",
              "      <td>The Big Bang Theory</td>\n",
              "      <td>0</td>\n",
              "      <td>2007</td>\n",
              "      <td>2019</td>\n",
              "      <td>22</td>\n",
              "      <td>Comedy,Romance</td>\n",
              "      <td>tt2176186</td>\n",
              "      <td>6.7</td>\n",
              "      <td>1711</td>\n",
              "    </tr>\n",
              "  </tbody>\n",
              "</table>\n",
              "</div>"
            ],
            "text/plain": [
              "       tconst_x parentTconst  seasonNumber  ...      tconst averageRating numVotes\n",
              "1    tt10590194    tt0898266          10.0  ...  tt10590194           7.8       78\n",
              "101   tt2176186    tt0898266           1.0  ...   tt2176186           6.7     1711\n",
              "\n",
              "[2 rows x 16 columns]"
            ]
          },
          "metadata": {
            "tags": []
          },
          "execution_count": 63
        }
      ]
    },
    {
      "cell_type": "code",
      "metadata": {
        "id": "DwoGf3Sweq2q",
        "colab_type": "code",
        "colab": {
          "base_uri": "https://localhost:8080/",
          "height": 80
        },
        "outputId": "f8a3de97-ebad-44b7-c7b6-d55557c4ff4d"
      },
      "source": [
        "episode_df[episode_df.tconst == 'tt10590194']"
      ],
      "execution_count": 60,
      "outputs": [
        {
          "output_type": "execute_result",
          "data": {
            "text/html": [
              "<div>\n",
              "<style scoped>\n",
              "    .dataframe tbody tr th:only-of-type {\n",
              "        vertical-align: middle;\n",
              "    }\n",
              "\n",
              "    .dataframe tbody tr th {\n",
              "        vertical-align: top;\n",
              "    }\n",
              "\n",
              "    .dataframe thead th {\n",
              "        text-align: right;\n",
              "    }\n",
              "</style>\n",
              "<table border=\"1\" class=\"dataframe\">\n",
              "  <thead>\n",
              "    <tr style=\"text-align: right;\">\n",
              "      <th></th>\n",
              "      <th>tconst</th>\n",
              "      <th>parentTconst</th>\n",
              "      <th>seasonNumber</th>\n",
              "      <th>episodeNumber</th>\n",
              "    </tr>\n",
              "  </thead>\n",
              "  <tbody>\n",
              "    <tr>\n",
              "      <th>708917</th>\n",
              "      <td>tt10590194</td>\n",
              "      <td>tt0898266</td>\n",
              "      <td>10</td>\n",
              "      <td>0</td>\n",
              "    </tr>\n",
              "  </tbody>\n",
              "</table>\n",
              "</div>"
            ],
            "text/plain": [
              "            tconst parentTconst seasonNumber episodeNumber\n",
              "708917  tt10590194    tt0898266           10             0"
            ]
          },
          "metadata": {
            "tags": []
          },
          "execution_count": 60
        }
      ]
    },
    {
      "cell_type": "code",
      "metadata": {
        "id": "Gx5LCE0veydH",
        "colab_type": "code",
        "colab": {
          "base_uri": "https://localhost:8080/",
          "height": 80
        },
        "outputId": "5d635bf4-6154-45da-fc9a-cf768957aaeb"
      },
      "source": [
        "titles_df[titles_df.tconst == 'tt0898266']"
      ],
      "execution_count": 62,
      "outputs": [
        {
          "output_type": "execute_result",
          "data": {
            "text/html": [
              "<div>\n",
              "<style scoped>\n",
              "    .dataframe tbody tr th:only-of-type {\n",
              "        vertical-align: middle;\n",
              "    }\n",
              "\n",
              "    .dataframe tbody tr th {\n",
              "        vertical-align: top;\n",
              "    }\n",
              "\n",
              "    .dataframe thead th {\n",
              "        text-align: right;\n",
              "    }\n",
              "</style>\n",
              "<table border=\"1\" class=\"dataframe\">\n",
              "  <thead>\n",
              "    <tr style=\"text-align: right;\">\n",
              "      <th></th>\n",
              "      <th>tconst</th>\n",
              "      <th>titleType</th>\n",
              "      <th>primaryTitle</th>\n",
              "      <th>originalTitle</th>\n",
              "      <th>isAdult</th>\n",
              "      <th>startYear</th>\n",
              "      <th>endYear</th>\n",
              "      <th>runtimeMinutes</th>\n",
              "      <th>genres</th>\n",
              "    </tr>\n",
              "  </thead>\n",
              "  <tbody>\n",
              "    <tr>\n",
              "      <th>870801</th>\n",
              "      <td>tt0898266</td>\n",
              "      <td>tvSeries</td>\n",
              "      <td>The Big Bang Theory</td>\n",
              "      <td>The Big Bang Theory</td>\n",
              "      <td>0</td>\n",
              "      <td>2007</td>\n",
              "      <td>2019</td>\n",
              "      <td>22</td>\n",
              "      <td>Comedy,Romance</td>\n",
              "    </tr>\n",
              "  </tbody>\n",
              "</table>\n",
              "</div>"
            ],
            "text/plain": [
              "           tconst titleType  ... runtimeMinutes          genres\n",
              "870801  tt0898266  tvSeries  ...             22  Comedy,Romance\n",
              "\n",
              "[1 rows x 9 columns]"
            ]
          },
          "metadata": {
            "tags": []
          },
          "execution_count": 62
        }
      ]
    },
    {
      "cell_type": "code",
      "metadata": {
        "id": "ik3Ef4bLfOvr",
        "colab_type": "code",
        "colab": {}
      },
      "source": [
        ""
      ],
      "execution_count": 0,
      "outputs": []
    }
  ]
}