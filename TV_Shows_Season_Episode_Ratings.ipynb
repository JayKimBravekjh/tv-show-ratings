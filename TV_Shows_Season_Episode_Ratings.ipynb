{
  "nbformat": 4,
  "nbformat_minor": 0,
  "metadata": {
    "colab": {
      "name": "TV Shows Season Episode Ratings.ipynb",
      "provenance": [],
      "collapsed_sections": [],
      "authorship_tag": "ABX9TyPnQ17l47U2gT/MHhqcHXq7",
      "include_colab_link": true
    },
    "kernelspec": {
      "name": "python3",
      "display_name": "Python 3"
    },
    "accelerator": "GPU"
  },
  "cells": [
    {
      "cell_type": "markdown",
      "metadata": {
        "id": "view-in-github",
        "colab_type": "text"
      },
      "source": [
        "<a href=\"https://colab.research.google.com/github/nonoumasy/tv-show-ratings/blob/master/TV_Shows_Season_Episode_Ratings.ipynb\" target=\"_parent\"><img src=\"https://colab.research.google.com/assets/colab-badge.svg\" alt=\"Open In Colab\"/></a>"
      ]
    },
    {
      "cell_type": "code",
      "metadata": {
        "id": "hU9JJxaZ1cnV",
        "colab_type": "code",
        "colab": {}
      },
      "source": [
        "import pandas as pd\n",
        "import matplotlib.pyplot as plt\n",
        "import seaborn as sns"
      ],
      "execution_count": 0,
      "outputs": []
    },
    {
      "cell_type": "code",
      "metadata": {
        "id": "HueA8LOD9DxH",
        "colab_type": "code",
        "colab": {
          "base_uri": "https://localhost:8080/",
          "height": 71
        },
        "outputId": "80def6da-9cd1-4ab2-97a1-f6a024085cf7"
      },
      "source": [
        "# load imdb datasets\n",
        "titles_df = pd.read_csv('https://datasets.imdbws.com/title.basics.tsv.gz', sep='\\t', )\n",
        "episode_df = pd.read_csv('https://datasets.imdbws.com/title.episode.tsv.gz', sep='\\t', )\n",
        "ratings_df = pd.read_csv('https://datasets.imdbws.com/title.ratings.tsv.gz', sep='\\t', )"
      ],
      "execution_count": 137,
      "outputs": [
        {
          "output_type": "stream",
          "text": [
            "/usr/local/lib/python3.6/dist-packages/IPython/core/interactiveshell.py:2718: DtypeWarning: Columns (5) have mixed types.Specify dtype option on import or set low_memory=False.\n",
            "  interactivity=interactivity, compiler=compiler, result=result)\n"
          ],
          "name": "stderr"
        }
      ]
    },
    {
      "cell_type": "code",
      "metadata": {
        "id": "uIcHoXh6gHTy",
        "colab_type": "code",
        "colab": {
          "base_uri": "https://localhost:8080/",
          "height": 266
        },
        "outputId": "54c4768a-422c-4db1-c0c3-cd692ff1dd5b"
      },
      "source": [
        "# find the 'tconst' id of your favorite show\n",
        "title = 'Seinfeld'\n",
        "titles_df[titles_df.primaryTitle == title]"
      ],
      "execution_count": 118,
      "outputs": [
        {
          "output_type": "execute_result",
          "data": {
            "text/html": [
              "<div>\n",
              "<style scoped>\n",
              "    .dataframe tbody tr th:only-of-type {\n",
              "        vertical-align: middle;\n",
              "    }\n",
              "\n",
              "    .dataframe tbody tr th {\n",
              "        vertical-align: top;\n",
              "    }\n",
              "\n",
              "    .dataframe thead th {\n",
              "        text-align: right;\n",
              "    }\n",
              "</style>\n",
              "<table border=\"1\" class=\"dataframe\">\n",
              "  <thead>\n",
              "    <tr style=\"text-align: right;\">\n",
              "      <th></th>\n",
              "      <th>tconst</th>\n",
              "      <th>titleType</th>\n",
              "      <th>primaryTitle</th>\n",
              "      <th>originalTitle</th>\n",
              "      <th>isAdult</th>\n",
              "      <th>startYear</th>\n",
              "      <th>endYear</th>\n",
              "      <th>runtimeMinutes</th>\n",
              "      <th>genres</th>\n",
              "    </tr>\n",
              "  </thead>\n",
              "  <tbody>\n",
              "    <tr>\n",
              "      <th>96750</th>\n",
              "      <td>tt0098904</td>\n",
              "      <td>tvSeries</td>\n",
              "      <td>Seinfeld</td>\n",
              "      <td>Seinfeld</td>\n",
              "      <td>0</td>\n",
              "      <td>1989</td>\n",
              "      <td>1998</td>\n",
              "      <td>22</td>\n",
              "      <td>Comedy</td>\n",
              "    </tr>\n",
              "    <tr>\n",
              "      <th>905101</th>\n",
              "      <td>tt0933773</td>\n",
              "      <td>tvEpisode</td>\n",
              "      <td>Seinfeld</td>\n",
              "      <td>Seinfeld</td>\n",
              "      <td>0</td>\n",
              "      <td>2006</td>\n",
              "      <td>\\N</td>\n",
              "      <td>\\N</td>\n",
              "      <td>Biography,Documentary</td>\n",
              "    </tr>\n",
              "    <tr>\n",
              "      <th>1505990</th>\n",
              "      <td>tt10939038</td>\n",
              "      <td>tvEpisode</td>\n",
              "      <td>Seinfeld</td>\n",
              "      <td>Seinfeld</td>\n",
              "      <td>0</td>\n",
              "      <td>2019</td>\n",
              "      <td>\\N</td>\n",
              "      <td>\\N</td>\n",
              "      <td>Talk-Show</td>\n",
              "    </tr>\n",
              "    <tr>\n",
              "      <th>2484962</th>\n",
              "      <td>tt1536149</td>\n",
              "      <td>tvEpisode</td>\n",
              "      <td>Seinfeld</td>\n",
              "      <td>Seinfeld</td>\n",
              "      <td>0</td>\n",
              "      <td>2009</td>\n",
              "      <td>\\N</td>\n",
              "      <td>41</td>\n",
              "      <td>Comedy</td>\n",
              "    </tr>\n",
              "    <tr>\n",
              "      <th>3309986</th>\n",
              "      <td>tt2433286</td>\n",
              "      <td>tvEpisode</td>\n",
              "      <td>Seinfeld</td>\n",
              "      <td>Seinfeld</td>\n",
              "      <td>0</td>\n",
              "      <td>2009</td>\n",
              "      <td>\\N</td>\n",
              "      <td>\\N</td>\n",
              "      <td>Comedy</td>\n",
              "    </tr>\n",
              "    <tr>\n",
              "      <th>4728524</th>\n",
              "      <td>tt5677882</td>\n",
              "      <td>tvEpisode</td>\n",
              "      <td>Seinfeld</td>\n",
              "      <td>Seinfeld</td>\n",
              "      <td>0</td>\n",
              "      <td>1999</td>\n",
              "      <td>\\N</td>\n",
              "      <td>\\N</td>\n",
              "      <td>Documentary,News</td>\n",
              "    </tr>\n",
              "    <tr>\n",
              "      <th>5458946</th>\n",
              "      <td>tt7282966</td>\n",
              "      <td>tvEpisode</td>\n",
              "      <td>Seinfeld</td>\n",
              "      <td>Seinfeld</td>\n",
              "      <td>0</td>\n",
              "      <td>2017</td>\n",
              "      <td>\\N</td>\n",
              "      <td>\\N</td>\n",
              "      <td>\\N</td>\n",
              "    </tr>\n",
              "  </tbody>\n",
              "</table>\n",
              "</div>"
            ],
            "text/plain": [
              "             tconst  titleType  ... runtimeMinutes                 genres\n",
              "96750     tt0098904   tvSeries  ...             22                 Comedy\n",
              "905101    tt0933773  tvEpisode  ...             \\N  Biography,Documentary\n",
              "1505990  tt10939038  tvEpisode  ...             \\N              Talk-Show\n",
              "2484962   tt1536149  tvEpisode  ...             41                 Comedy\n",
              "3309986   tt2433286  tvEpisode  ...             \\N                 Comedy\n",
              "4728524   tt5677882  tvEpisode  ...             \\N       Documentary,News\n",
              "5458946   tt7282966  tvEpisode  ...             \\N                     \\N\n",
              "\n",
              "[7 rows x 9 columns]"
            ]
          },
          "metadata": {
            "tags": []
          },
          "execution_count": 118
        }
      ]
    },
    {
      "cell_type": "code",
      "metadata": {
        "id": "XpLOQkCBT7J-",
        "colab_type": "code",
        "colab": {}
      },
      "source": [
        "# filter show as dataframes\n",
        "\n",
        "tbbt_df = titles_df[titles_df.tconst == 'tt0898266']\n",
        "got_df = titles_df[titles_df.tconst == 'tt0944947']\n",
        "bb_df = titles_df[titles_df.tconst == 'tt0903747']\n",
        "seinfeld_df = titles_df[titles_df.tconst == 'tt0098904']\n"
      ],
      "execution_count": 0,
      "outputs": []
    },
    {
      "cell_type": "code",
      "metadata": {
        "id": "OApBFo01J79o",
        "colab_type": "code",
        "colab": {}
      },
      "source": [
        "# merge title, episode, rating dataframes\n",
        "df = pd.merge(episode_df.merge(bb_df, left_on='parentTconst', right_on='tconst'), ratings_df, left_on='tconst_x', right_on='tconst')"
      ],
      "execution_count": 0,
      "outputs": []
    },
    {
      "cell_type": "code",
      "metadata": {
        "id": "ObkMrLeDbGVo",
        "colab_type": "code",
        "colab": {
          "base_uri": "https://localhost:8080/",
          "height": 530
        },
        "outputId": "ddeb0226-252f-4912-9e20-a13ee835889d"
      },
      "source": [
        "# plot show as a crosstab\n",
        "plt.figure(figsize=(2.5,8))\n",
        "sns.heatmap(pd.crosstab(index=df.episodeNumber.astype('float').sort_values(), \n",
        "                        columns=df.seasonNumber.astype('float'), \n",
        "                        values=df.averageRating, aggfunc='sum'), \n",
        "            annot=True, \n",
        "            cmap='Greens',\n",
        "            cbar=False,\n",
        "            )\n",
        "plt.title('Breaking Bad Ratings')\n",
        "plt.xlabel('Season')\n",
        "plt.ylabel('Episode')\n",
        "plt.show"
      ],
      "execution_count": 152,
      "outputs": [
        {
          "output_type": "execute_result",
          "data": {
            "text/plain": [
              "<function matplotlib.pyplot.show>"
            ]
          },
          "metadata": {
            "tags": []
          },
          "execution_count": 152
        },
        {
          "output_type": "display_data",
          "data": {
            "image/png": "[encoded data removed]",
            "text/plain": [
              "<Figure size 180x576 with 1 Axes>"
            ]
          },
          "metadata": {
            "tags": []
          }
        }
      ]
    },
    {
      "cell_type": "code",
      "metadata": {
        "id": "ik3Ef4bLfOvr",
        "colab_type": "code",
        "colab": {}
      },
      "source": [
        ""
      ],
      "execution_count": 0,
      "outputs": []
    }
  ]
}